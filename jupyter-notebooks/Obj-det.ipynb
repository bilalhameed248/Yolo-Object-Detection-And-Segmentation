{
 "cells": [
  {
   "cell_type": "markdown",
   "id": "49cd5e0a",
   "metadata": {},
   "source": [
    "## Import Libraries"
   ]
  },
  {
   "cell_type": "code",
   "execution_count": null,
   "id": "0d1e5a8a",
   "metadata": {},
   "outputs": [],
   "source": [
    "import cv2"
   ]
  },
  {
   "cell_type": "markdown",
   "id": "a4cba3c2",
   "metadata": {},
   "source": [
    "## Loading Image"
   ]
  },
  {
   "cell_type": "code",
   "execution_count": null,
   "id": "40722f75",
   "metadata": {},
   "outputs": [],
   "source": [
    "image = cv2.imread('dogs.png')"
   ]
  },
  {
   "cell_type": "markdown",
   "id": "c0ebddcb",
   "metadata": {},
   "source": [
    "## Using CascadeClassifier"
   ]
  },
  {
   "cell_type": "code",
   "execution_count": null,
   "id": "c12e0b83",
   "metadata": {},
   "outputs": [],
   "source": [
    "face_cascade = cv2.CascadeClassifier(cv2.data.haarcascades + 'haarcascade_frontalface_default.xml')"
   ]
  },
  {
   "cell_type": "code",
   "execution_count": null,
   "id": "112ef807",
   "metadata": {},
   "outputs": [],
   "source": [
    "gray_image = cv2.cvtColor(image, cv2.COLOR_BGR2GRAY)"
   ]
  },
  {
   "cell_type": "code",
   "execution_count": null,
   "id": "4a3ff3f8",
   "metadata": {},
   "outputs": [],
   "source": [
    "faces = face_cascade.detectMultiScale(gray_image, scaleFactor=1.1, minNeighbors=4, minSize=(20, 20))"
   ]
  },
  {
   "cell_type": "code",
   "execution_count": null,
   "id": "1536dab0",
   "metadata": {},
   "outputs": [],
   "source": [
    "for (x, y, w, h) in faces:\n",
    "    cv2.rectangle(image, (x, y), (x+w, y+h), (0, 255, 0), 2)"
   ]
  },
  {
   "cell_type": "code",
   "execution_count": null,
   "id": "cd5a3862",
   "metadata": {},
   "outputs": [],
   "source": [
    "cv2.imshow(\"Detected obj\", image)\n",
    "cv2.waitKey(0)\n",
    "cv2.destroyAllWindows()"
   ]
  },
  {
   "cell_type": "markdown",
   "id": "936967de",
   "metadata": {},
   "source": [
    "## Using Yolo"
   ]
  },
  {
   "cell_type": "markdown",
   "id": "20860518",
   "metadata": {},
   "source": [
    "### Detection"
   ]
  },
  {
   "cell_type": "code",
   "execution_count": null,
   "id": "d412d0c5",
   "metadata": {},
   "outputs": [],
   "source": [
    "from ultralytics import YOLO"
   ]
  },
  {
   "cell_type": "code",
   "execution_count": null,
   "id": "16df7801",
   "metadata": {},
   "outputs": [],
   "source": [
    "model = YOLO(\"yolov8m.pt\")"
   ]
  },
  {
   "cell_type": "code",
   "execution_count": null,
   "id": "8b64e63e",
   "metadata": {},
   "outputs": [],
   "source": [
    "results = model.predict(\"dogs.png\")"
   ]
  },
  {
   "cell_type": "code",
   "execution_count": null,
   "id": "53aff01e",
   "metadata": {},
   "outputs": [],
   "source": [
    "result = results[0]"
   ]
  },
  {
   "cell_type": "code",
   "execution_count": null,
   "id": "19fed854",
   "metadata": {},
   "outputs": [],
   "source": [
    "len(result.boxes)"
   ]
  },
  {
   "cell_type": "code",
   "execution_count": null,
   "id": "4be700ca",
   "metadata": {},
   "outputs": [],
   "source": [
    "box = result.boxes[0]"
   ]
  },
  {
   "cell_type": "code",
   "execution_count": null,
   "id": "14eca6a5",
   "metadata": {},
   "outputs": [],
   "source": [
    "print(\"Object type:\", box.cls)\n",
    "print(\"Coordinates:\", box.xyxy)\n",
    "print(\"Probability:\", box.conf)"
   ]
  },
  {
   "cell_type": "code",
   "execution_count": null,
   "id": "566e089f",
   "metadata": {},
   "outputs": [],
   "source": [
    "cords = box.xyxy[0].tolist()\n",
    "cords = [round(x) for x in cords]\n",
    "class_id = result.names[box.cls[0].item()]\n",
    "conf = round(box.conf[0].item(), 2)\n",
    "print(\"Object type:\", class_id)\n",
    "print(\"Coordinates:\", cords)\n",
    "print(\"Probability:\", conf)"
   ]
  },
  {
   "cell_type": "code",
   "execution_count": null,
   "id": "c3311a3c",
   "metadata": {},
   "outputs": [],
   "source": [
    "print(\"Object type:\",box.cls[0])\n",
    "print(\"Coordinates:\",box.xyxy[0])\n",
    "print(\"Probability:\",box.conf[0])"
   ]
  },
  {
   "cell_type": "code",
   "execution_count": null,
   "id": "35fd57df",
   "metadata": {},
   "outputs": [],
   "source": [
    "for box in result.boxes:\n",
    "  class_id = result.names[box.cls[0].item()]\n",
    "  cords = box.xyxy[0].tolist()\n",
    "  cords = [round(x) for x in cords]\n",
    "  conf = round(box.conf[0].item(), 2)\n",
    "  print(\"Object type:\", class_id)\n",
    "  print(\"Coordinates:\", cords)\n",
    "  print(\"Probability:\", conf)\n",
    "  print(\"---\")"
   ]
  },
  {
   "cell_type": "code",
   "execution_count": null,
   "id": "c26d707a",
   "metadata": {},
   "outputs": [],
   "source": [
    "cords = box.xyxy[0].tolist()\n",
    "class_id = box.cls[0].item()\n",
    "conf = box.conf[0].item()\n",
    "print(\"Object type:\", class_id)\n",
    "print(\"Coordinates:\", cords)\n",
    "print(\"Probability:\", conf)"
   ]
  },
  {
   "cell_type": "code",
   "execution_count": null,
   "id": "984aefc3",
   "metadata": {},
   "outputs": [],
   "source": []
  },
  {
   "cell_type": "code",
   "execution_count": null,
   "id": "9afdf056",
   "metadata": {},
   "outputs": [],
   "source": [
    "print(result.names)"
   ]
  },
  {
   "cell_type": "code",
   "execution_count": null,
   "id": "0a76a120",
   "metadata": {},
   "outputs": [],
   "source": [
    "from ultralytics import YOLO\n",
    "import cv2\n",
    "model = YOLO(\"yolov8m.pt\")\n",
    "result = model.predict(\"dogs.png\")[0]\n",
    "# result = results[0]\n",
    "image = cv2.imread(\"dogs.png\")\n",
    "for box in result.boxes:\n",
    "    class_id = result.names[box.cls[0].item()]\n",
    "    cords = box.xyxy[0].tolist()\n",
    "    cords = [round(x) for x in cords]\n",
    "    conf = round(box.conf[0].item(), 2)\n",
    "    x_min, y_min, x_max, y_max = cords\n",
    "    cv2.rectangle(image, (x_min, y_min), (x_max, y_max), (0, 255, 0), 2)\n",
    "    label = f\"{class_id} ({conf})\"\n",
    "    cv2.putText(image, label, (x_min, y_min - 10), cv2.FONT_HERSHEY_SIMPLEX, 0.5, (0, 255, 0), 2)\n",
    "annotated_image_path = \"detected_image.png\"\n",
    "cv2.imwrite(annotated_image_path, image)\n",
    "print(\"Annotated image saved to:\", annotated_image_path)"
   ]
  },
  {
   "cell_type": "markdown",
   "id": "3a89c4db",
   "metadata": {},
   "source": [
    "### Segmentation"
   ]
  },
  {
   "cell_type": "code",
   "execution_count": null,
   "id": "b778e081",
   "metadata": {},
   "outputs": [],
   "source": [
    "mask = mask1.data[0].numpy()\n",
    "polygon = mask1.xy[0]"
   ]
  },
  {
   "cell_type": "code",
   "execution_count": null,
   "id": "4886fb10",
   "metadata": {},
   "outputs": [],
   "source": [
    "!pip install pillow"
   ]
  },
  {
   "cell_type": "code",
   "execution_count": null,
   "id": "3b161b38",
   "metadata": {},
   "outputs": [],
   "source": [
    "from PIL import Image\n",
    "mask_img = Image.fromarray(mask,\"I\")\n",
    "mask_img"
   ]
  },
  {
   "cell_type": "code",
   "execution_count": null,
   "id": "da50d2cf",
   "metadata": {},
   "outputs": [],
   "source": [
    "polygon"
   ]
  },
  {
   "cell_type": "code",
   "execution_count": null,
   "id": "7d44f2a0",
   "metadata": {},
   "outputs": [],
   "source": [
    "from PIL import ImageDraw\n",
    "\n",
    "img = Image.open(\"dogs.png\")\n",
    "draw = ImageDraw.Draw(img)\n",
    "draw.polygon(polygon,outline=(0,255,0))\n",
    "img"
   ]
  },
  {
   "cell_type": "code",
   "execution_count": null,
   "id": "b4814f6b",
   "metadata": {},
   "outputs": [],
   "source": [
    "mask2 = masks[1]\n",
    "mask = mask2.data[0].numpy()\n",
    "polygon = mask2.xy[0]\n",
    "mask_img = Image.fromarray(mask,\"I\")\n",
    "mask_img"
   ]
  },
  {
   "cell_type": "code",
   "execution_count": null,
   "id": "24a762fc",
   "metadata": {},
   "outputs": [],
   "source": [
    "draw.polygon(polygon,outline=(0,255,0))\n",
    "img"
   ]
  },
  {
   "cell_type": "code",
   "execution_count": null,
   "id": "6e0bc56b",
   "metadata": {},
   "outputs": [],
   "source": []
  },
  {
   "cell_type": "code",
   "execution_count": null,
   "id": "3fadc615",
   "metadata": {},
   "outputs": [],
   "source": []
  },
  {
   "cell_type": "code",
   "execution_count": 21,
   "id": "0357b1a7",
   "metadata": {},
   "outputs": [
    {
     "name": "stderr",
     "output_type": "stream",
     "text": [
      "\n",
      "image 1/1 D:\\Python\\dev-sky-task\\jupyter-notebooks\\dogs.png: 288x640 1 person, 2 dogs, 430.0ms\n",
      "Speed: 3.0ms preprocess, 430.0ms inference, 5.0ms postprocess per image at shape (1, 3, 288, 640)\n"
     ]
    },
    {
     "name": "stdout",
     "output_type": "stream",
     "text": [
      "Outlined image saved to: outlined_dogs.png\n",
      "Filled image saved to: filled_dogs.png\n"
     ]
    }
   ],
   "source": [
    "from ultralytics import YOLO\n",
    "import cv2\n",
    "import numpy as np\n",
    "from PIL import Image, ImageDraw\n",
    "\n",
    "seg_model = YOLO(\"yolov8m-seg.pt\")\n",
    "result = seg_model.predict(\"dogs.png\")[0]\n",
    "\n",
    "img_outline = Image.open(\"dogs.png\")\n",
    "img_fill = img_outline.copy()  # Create a copy for filling\n",
    "\n",
    "draw_outline = ImageDraw.Draw(img_outline)\n",
    "draw_fill = ImageDraw.Draw(img_fill)\n",
    "\n",
    "# Set the thickness of the outline\n",
    "outline_thickness = 5  # Adjust thickness here\n",
    "\n",
    "# Get masks and polygons for each object\n",
    "masks = result.masks\n",
    "for mask in masks:\n",
    "    polygon = mask.xy[0]  # Get polygon coordinates\n",
    "    \n",
    "    # Draw filled polygon\n",
    "    draw_fill.polygon(polygon, fill=(0, 255, 0))  # Change fill color here\n",
    "\n",
    "    # Draw outline\n",
    "    for i in range(outline_thickness):\n",
    "        offset = i - outline_thickness // 2  # Calculate offset for each iteration\n",
    "        offset_polygon = [(p[0] + offset, p[1] + offset) for p in polygon]\n",
    "        draw_outline.polygon(offset_polygon, outline=(0, 255, 0))  # Draw offset polygon\n",
    "\n",
    "# Convert PIL images back to NumPy arrays\n",
    "outlined_image = np.array(img_outline)\n",
    "filled_image = np.array(img_fill)\n",
    "\n",
    "# Save the images\n",
    "outlined_image_path = \"outlined_dogs.png\"\n",
    "filled_image_path = \"filled_dogs.png\"\n",
    "\n",
    "cv2.imwrite(outlined_image_path, outlined_image)\n",
    "cv2.imwrite(filled_image_path, filled_image)\n",
    "\n",
    "print(\"Outlined image saved to:\", outlined_image_path)\n",
    "print(\"Filled image saved to:\", filled_image_path)"
   ]
  },
  {
   "cell_type": "code",
   "execution_count": null,
   "id": "05049ba8",
   "metadata": {},
   "outputs": [],
   "source": []
  },
  {
   "cell_type": "code",
   "execution_count": null,
   "id": "0d74ac2a",
   "metadata": {},
   "outputs": [],
   "source": []
  },
  {
   "cell_type": "code",
   "execution_count": null,
   "id": "2a665951",
   "metadata": {},
   "outputs": [],
   "source": []
  }
 ],
 "metadata": {
  "kernelspec": {
   "display_name": "Python 3 (ipykernel)",
   "language": "python",
   "name": "python3"
  },
  "language_info": {
   "codemirror_mode": {
    "name": "ipython",
    "version": 3
   },
   "file_extension": ".py",
   "mimetype": "text/x-python",
   "name": "python",
   "nbconvert_exporter": "python",
   "pygments_lexer": "ipython3",
   "version": "3.7.11"
  }
 },
 "nbformat": 4,
 "nbformat_minor": 5
}
